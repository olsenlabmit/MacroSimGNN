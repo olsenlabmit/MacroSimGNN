{
 "cells": [
  {
   "cell_type": "code",
   "execution_count": 12,
   "id": "525851a4",
   "metadata": {},
   "outputs": [],
   "source": [
    "# Essential Libraries\n",
    "import random\n",
    "import time\n",
    "import json\n",
    "import signal\n",
    "import copy\n",
    "import glob\n",
    "\n",
    "# Scientific Libraries\n",
    "import numpy as np\n",
    "from scipy.stats import norm\n",
    "\n",
    "# RDKit Libraries\n",
    "from rdkit import Chem\n",
    "from rdkit.Chem import Draw\n",
    "from rdkit.Chem.Draw import IPythonConsole\n",
    "\n",
    "# Graph Libraries\n",
    "import networkx as nx\n",
    "import networkx.algorithms.isomorphism as iso\n",
    "\n",
    "# Visualization Libraries\n",
    "import matplotlib.pyplot as plt\n",
    "from matplotlib import rcParams\n",
    "import seaborn as sns\n",
    "\n",
    "# Machine Learning Libraries\n",
    "from sklearn.metrics import confusion_matrix\n",
    "\n",
    "# Configure Matplotlib to use LaTeX and Times New Roman for fonts\n",
    "plt.rcParams[\"text.usetex\"] = True\n",
    "rcParams[\"font.family\"] = \"serif\"\n",
    "rcParams[\"font.serif\"] = [\"Times New Roman\"]\n",
    "\n",
    "from utils import macro_unsupervised as unsup\n",
    "from utils import plot"
   ]
  },
  {
   "cell_type": "markdown",
   "id": "721c82ba",
   "metadata": {},
   "source": [
    "# Load Graphs for GED Dataset"
   ]
  },
  {
   "cell_type": "code",
   "execution_count": 3,
   "id": "875296c7",
   "metadata": {},
   "outputs": [],
   "source": [
    "GED_GRAPHS_400 = {}\n",
    "GED_GRAPHS_400_path = \"../GED_GRAPHS_400/\"\n",
    "for name in glob.glob(GED_GRAPHS_400_path + \"*.gpickle\"):\n",
    "    graph = nx.read_gpickle(name)\n",
    "    GED_GRAPHS_400[name[len(GED_GRAPHS_400_path) : -8]] = graph"
   ]
  },
  {
   "cell_type": "markdown",
   "id": "7cf2e2f2",
   "metadata": {},
   "source": [
    "# Load GED Dataset"
   ]
  },
  {
   "cell_type": "code",
   "execution_count": 4,
   "id": "ecf4abc3",
   "metadata": {},
   "outputs": [
    {
     "name": "stdout",
     "output_type": "stream",
     "text": [
      "160000\n"
     ]
    }
   ],
   "source": [
    "with open(\"../GED_Dict_400_400.json\", \"r\") as json_file:\n",
    "    GED_Dict_400_400 = json.load(json_file)\n",
    "print(len(GED_Dict_400_400))"
   ]
  },
  {
   "cell_type": "code",
   "execution_count": 8,
   "id": "51219fb3",
   "metadata": {},
   "outputs": [],
   "source": [
    "random.seed(42)\n",
    "with open(\"../graph_0_199_IDs.json\", \"r\") as json_file:\n",
    "    graph_0_199_IDs = json.load(json_file)\n",
    "\n",
    "with open(\"../graph_200_399_IDs.json\", \"r\") as json_file:\n",
    "    graph_200_399_IDs = json.load(json_file)\n",
    "\n",
    "graph_0_399_IDs = graph_0_199_IDs + graph_200_399_IDs"
   ]
  },
  {
   "cell_type": "code",
   "execution_count": null,
   "id": "99911b50",
   "metadata": {},
   "outputs": [],
   "source": []
  },
  {
   "cell_type": "code",
   "execution_count": 20,
   "id": "b1c25abd",
   "metadata": {},
   "outputs": [
    {
     "name": "stdout",
     "output_type": "stream",
     "text": [
      "{0: 'Glc', 1: 'Rha', 2: 'Xyl'}\n"
     ]
    },
    {
     "data": {
      "image/png": "[encoded data removed]",
      "text/plain": [
       "<Figure size 640x480 with 1 Axes>"
      ]
     },
     "metadata": {},
     "output_type": "display_data"
    }
   ],
   "source": [
    "plot.graph(GED_GRAPHS_400[graph_0_399_IDs[0]])"
   ]
  },
  {
   "cell_type": "code",
   "execution_count": 21,
   "id": "459c46a6",
   "metadata": {},
   "outputs": [
    {
     "name": "stdout",
     "output_type": "stream",
     "text": [
      "{0: 'Kdo', 1: 'Kdo', 2: 'Gal', 3: 'GlcN', 4: 'GlcN'}\n"
     ]
    },
    {
     "data": {
      "image/png": "[encoded data removed]",
      "text/plain": [
       "<Figure size 640x480 with 1 Axes>"
      ]
     },
     "metadata": {},
     "output_type": "display_data"
    }
   ],
   "source": [
    "plot.graph(GED_GRAPHS_400[graph_0_399_IDs[104]])"
   ]
  },
  {
   "cell_type": "markdown",
   "id": "7d888265",
   "metadata": {},
   "source": [
    "# Graph Edit Distance with A* method implemented by networkx"
   ]
  },
  {
   "cell_type": "code",
   "execution_count": 43,
   "id": "dffaacf9",
   "metadata": {},
   "outputs": [
    {
     "data": {
      "text/plain": [
       "5.81993006993007"
      ]
     },
     "execution_count": 43,
     "metadata": {},
     "output_type": "execute_result"
    }
   ],
   "source": [
    "unsup.edit_distance(GED_GRAPHS_400[graph_0_399_IDs[0]],GED_GRAPHS_400[graph_0_399_IDs[104]])"
   ]
  },
  {
   "cell_type": "code",
   "execution_count": 44,
   "id": "b5b0ad6b",
   "metadata": {},
   "outputs": [
    {
     "data": {
      "text/plain": [
       "5.822556390977444"
      ]
     },
     "execution_count": 44,
     "metadata": {},
     "output_type": "execute_result"
    }
   ],
   "source": [
    "graph_pair_key = graph_0_399_IDs[0] + \",\" + graph_0_399_IDs[104]\n",
    "GED_Dict_400_400[graph_pair_key]"
   ]
  },
  {
   "cell_type": "code",
   "execution_count": 37,
   "id": "bf446f53",
   "metadata": {},
   "outputs": [],
   "source": [
    "# uncomment to calculate the whole graph edit distance for GED_matrix_400_400\n",
    "#GED_matrix_400_400 = np.zeros([400,400])\n",
    "\n",
    "#for i in range(0, 400):\n",
    "#    for j in range(0, 400):\n",
    "#        GED_matrix_400_400[i,j] = unsup.edit_distance(GED_GRAPHS_400[graph_0_399_IDs[i]],\n",
    "#                                                      GED_GRAPHS_400[graph_0_399_IDs[j]])"
   ]
  },
  {
   "cell_type": "code",
   "execution_count": 33,
   "id": "d6cb7bc5",
   "metadata": {},
   "outputs": [],
   "source": [
    "GED_matrix_400_400 = np.zeros([400,400])\n",
    "\n",
    "for i in range(0, 400):\n",
    "    for j in range(0, 400):\n",
    "        graph_pair_key = graph_0_399_IDs[i] + \",\" + graph_0_399_IDs[j]\n",
    "        GED_matrix_400_400[i,j] = GED_Dict_400_400[graph_pair_key]"
   ]
  },
  {
   "cell_type": "code",
   "execution_count": null,
   "id": "527c325e",
   "metadata": {},
   "outputs": [],
   "source": []
  },
  {
   "cell_type": "markdown",
   "id": "c0702da8",
   "metadata": {},
   "source": [
    "# Graph Kernel Method"
   ]
  },
  {
   "cell_type": "code",
   "execution_count": 34,
   "id": "58e1c1bf",
   "metadata": {},
   "outputs": [],
   "source": [
    "sim_matrix_from_graph_kernel = unsup.similarity_matrix(dict_graphs = GED_GRAPHS_400, \n",
    "                                                   method='kernel', \n",
    "                                                    M_input=\"L2\", \n",
    "                                                    w_input=11.0,)"
   ]
  },
  {
   "cell_type": "code",
   "execution_count": null,
   "id": "fd295bd6",
   "metadata": {},
   "outputs": [],
   "source": []
  },
  {
   "cell_type": "code",
   "execution_count": null,
   "id": "936291c3",
   "metadata": {},
   "outputs": [],
   "source": []
  }
 ],
 "metadata": {
  "kernelspec": {
   "display_name": "Python 3 (ipykernel)",
   "language": "python",
   "name": "python3"
  },
  "language_info": {
   "codemirror_mode": {
    "name": "ipython",
    "version": 3
   },
   "file_extension": ".py",
   "mimetype": "text/x-python",
   "name": "python",
   "nbconvert_exporter": "python",
   "pygments_lexer": "ipython3",
   "version": "3.9.16"
  }
 },
 "nbformat": 4,
 "nbformat_minor": 5
}
